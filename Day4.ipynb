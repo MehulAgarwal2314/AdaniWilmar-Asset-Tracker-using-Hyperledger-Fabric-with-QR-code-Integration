{
  "nbformat": 4,
  "nbformat_minor": 0,
  "metadata": {
    "colab": {
      "provenance": [],
      "authorship_tag": "ABX9TyPAQIcdHSN4Vpt3d+E0mLgK",
      "include_colab_link": true
    },
    "kernelspec": {
      "name": "python3",
      "display_name": "Python 3"
    },
    "language_info": {
      "name": "python"
    }
  },
  "cells": [
    {
      "cell_type": "markdown",
      "metadata": {
        "id": "view-in-github",
        "colab_type": "text"
      },
      "source": [
        "<a href=\"https://colab.research.google.com/github/MehulAgarwal2314/AdaniWilmar-Asset-Tracker-using-Hyperledger-Fabric-with-QR-code-Integration/blob/master/Day4.ipynb\" target=\"_parent\"><img src=\"https://colab.research.google.com/assets/colab-badge.svg\" alt=\"Open In Colab\"/></a>"
      ]
    },
    {
      "cell_type": "code",
      "source": [
        "import numpy as np\n",
        "import pandas as pd\n",
        "from keras.layers import Input, Dense\n",
        "from keras.models import Model\n",
        "from sklearn.preprocessing import StandardScaler"
      ],
      "metadata": {
        "id": "RfwWo9RUoU8p"
      },
      "execution_count": 2,
      "outputs": []
    },
    {
      "cell_type": "code",
      "execution_count": 6,
      "metadata": {
        "colab": {
          "base_uri": "https://localhost:8080/"
        },
        "id": "Q5TM8_uAn7e9",
        "outputId": "72cbf969-06dd-42e8-8dc1-0e0d20afebf5"
      },
      "outputs": [
        {
          "output_type": "stream",
          "name": "stderr",
          "text": [
            "<ipython-input-6-2ba97be4e89e>:1: DtypeWarning: Columns (1,2,3,4,5,6,7,8,9,10,11,12,13,14,15) have mixed types. Specify dtype option on import or set low_memory=False.\n",
            "  df=pd.read_csv(r'/content/Critical Tags 1.csv',encoding='unicode_escape')\n"
          ]
        }
      ],
      "source": [
        "df=pd.read_csv(r'/content/Critical Tags 1.csv',encoding='unicode_escape')"
      ]
    },
    {
      "cell_type": "code",
      "source": [
        "df.drop(['Unnamed: 4'],axis=1,inplace=True)"
      ],
      "metadata": {
        "id": "2Qak0BQ9sepP"
      },
      "execution_count": 11,
      "outputs": []
    },
    {
      "cell_type": "code",
      "source": [
        "df = df.drop(index=1)"
      ],
      "metadata": {
        "id": "IKuzV1gpsghz"
      },
      "execution_count": 12,
      "outputs": []
    },
    {
      "cell_type": "code",
      "source": [
        "df = df.drop(index=0)"
      ],
      "metadata": {
        "id": "2FL07ulpskML"
      },
      "execution_count": 13,
      "outputs": []
    },
    {
      "cell_type": "code",
      "source": [
        "for col in df.columns:\n",
        "    df[col] = pd.to_numeric(df[col], errors='coerce')"
      ],
      "metadata": {
        "id": "4B77IbH0sm9p"
      },
      "execution_count": 14,
      "outputs": []
    },
    {
      "cell_type": "code",
      "source": [
        "input_data = df.iloc[:, :2].values"
      ],
      "metadata": {
        "id": "HN5oGsY_wfdk"
      },
      "execution_count": 15,
      "outputs": []
    },
    {
      "cell_type": "code",
      "source": [
        "output_data = df.iloc[:, 2:].values"
      ],
      "metadata": {
        "id": "I8jWbFlssEtW"
      },
      "execution_count": 16,
      "outputs": []
    },
    {
      "cell_type": "code",
      "source": [
        "scaler = StandardScaler()"
      ],
      "metadata": {
        "id": "gGY4grd8sHe6"
      },
      "execution_count": 17,
      "outputs": []
    },
    {
      "cell_type": "code",
      "source": [
        "scaled_data = scaler.fit_transform(np.concatenate((input_data, output_data), axis=1))"
      ],
      "metadata": {
        "id": "t1613DYysMfN"
      },
      "execution_count": 18,
      "outputs": []
    },
    {
      "cell_type": "code",
      "source": [
        "normal_condition = scaled_data[:, 0] > 0"
      ],
      "metadata": {
        "id": "T0IAEMPJsP5h"
      },
      "execution_count": 20,
      "outputs": []
    },
    {
      "cell_type": "code",
      "source": [
        "anomaly_condition = scaled_data[:, 0] > 3"
      ],
      "metadata": {
        "id": "hyUaDfNAsydq"
      },
      "execution_count": 22,
      "outputs": []
    },
    {
      "cell_type": "code",
      "source": [
        "encoding_dim = 2"
      ],
      "metadata": {
        "id": "jv_hal87vK88"
      },
      "execution_count": 23,
      "outputs": []
    },
    {
      "cell_type": "code",
      "source": [
        "input_img = Input(shape=(14,))"
      ],
      "metadata": {
        "id": "TRuhinJWvZHl"
      },
      "execution_count": 24,
      "outputs": []
    },
    {
      "cell_type": "code",
      "source": [
        "encoded = Dense(encoding_dim, activation='relu')(input_img)"
      ],
      "metadata": {
        "id": "HeI0PrxHvbkm"
      },
      "execution_count": 25,
      "outputs": []
    },
    {
      "cell_type": "code",
      "source": [
        "decoded = Dense(14, activation='sigmoid')(encoded)"
      ],
      "metadata": {
        "id": "PQtsrj3gvgIq"
      },
      "execution_count": 26,
      "outputs": []
    },
    {
      "cell_type": "code",
      "source": [
        "autoencoder = Model(input_img, decoded)"
      ],
      "metadata": {
        "id": "nCopEC8pviv6"
      },
      "execution_count": 27,
      "outputs": []
    },
    {
      "cell_type": "code",
      "source": [
        "encoder = Model(input_img, encoded)"
      ],
      "metadata": {
        "id": "2-n-4_NlvlgF"
      },
      "execution_count": 28,
      "outputs": []
    },
    {
      "cell_type": "code",
      "source": [
        "autoencoder.compile(optimizer='adadelta', loss='binary_crossentropy')"
      ],
      "metadata": {
        "id": "6f3G8OkRvnL0"
      },
      "execution_count": 29,
      "outputs": []
    },
    {
      "cell_type": "code",
      "source": [
        "normal_data = df"
      ],
      "metadata": {
        "id": "LGVBsAjkvp90"
      },
      "execution_count": 32,
      "outputs": []
    },
    {
      "cell_type": "code",
      "source": [],
      "metadata": {
        "id": "f7h0-AQQvtnv"
      },
      "execution_count": null,
      "outputs": []
    }
  ]
}